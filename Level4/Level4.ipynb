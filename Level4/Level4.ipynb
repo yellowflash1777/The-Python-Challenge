{
 "cells": [
  {
   "cell_type": "markdown",
   "metadata": {},
   "source": [
    "Import the library"
   ]
  },
  {
   "cell_type": "code",
   "execution_count": 1,
   "metadata": {},
   "outputs": [],
   "source": [
    "import urllib\n",
    "from urllib.parse import urlparse\n",
    "import urllib.request"
   ]
  },
  {
   "cell_type": "markdown",
   "metadata": {},
   "source": [
    "Creating functions"
   ]
  },
  {
   "cell_type": "code",
   "execution_count": 2,
   "metadata": {},
   "outputs": [],
   "source": [
    "def nothing(s):\n",
    "  n=s.split(\" \")\n",
    "  for i in range(len(n)):\n",
    "    if n[i] =='nothing':\n",
    "      if n[i+1]== 'is':\n",
    "       return int(n[i+2][:-1])\n",
    "  return True"
   ]
  },
  {
   "cell_type": "code",
   "execution_count": 3,
   "metadata": {},
   "outputs": [],
   "source": [
    "def solve(un,c):\n",
    "  while c>0:\n",
    "    t='http://www.pythonchallenge.com/pc/def/linkedlist.php?nothing='+str(un)\n",
    "    b=urllib.request.urlopen(t)\n",
    "    q=str(b.read())\n",
    "    c=c-1\n",
    "    x0=un\n",
    "    x=nothing(q)\n",
    "    if x==True:\n",
    "      return print(x0)\n",
    "    else:\n",
    "     return solve(x,c)\n",
    "  \n",
    "  t='http://www.pythonchallenge.com/pc/def/linkedlist.php?nothing='+str(un)\n",
    "  b=urllib.request.urlopen(t)\n",
    "  print(b.read())\n"
   ]
  },
  {
   "cell_type": "markdown",
   "metadata": {},
   "source": [
    "Now  applying it on nothing=12345 and count=400"
   ]
  },
  {
   "cell_type": "code",
   "execution_count": 5,
   "metadata": {},
   "outputs": [
    {
     "name": "stdout",
     "output_type": "stream",
     "text": [
      "16044\n"
     ]
    }
   ],
   "source": [
    "solve('12345',400)"
   ]
  },
  {
   "cell_type": "markdown",
   "metadata": {},
   "source": [
    "Dividing 16044 by 2\n"
   ]
  },
  {
   "cell_type": "code",
   "execution_count": 6,
   "metadata": {},
   "outputs": [
    {
     "data": {
      "text/plain": [
       "8022.0"
      ]
     },
     "execution_count": 6,
     "metadata": {},
     "output_type": "execute_result"
    }
   ],
   "source": [
    "16044/2"
   ]
  },
  {
   "cell_type": "markdown",
   "metadata": {},
   "source": [
    "Now  applying it on nothing=8022 and count=400\n"
   ]
  },
  {
   "cell_type": "code",
   "execution_count": 7,
   "metadata": {},
   "outputs": [
    {
     "name": "stdout",
     "output_type": "stream",
     "text": [
      "66831\n"
     ]
    }
   ],
   "source": [
    "solve('8022',400)"
   ]
  }
 ],
 "metadata": {
  "interpreter": {
   "hash": "938bd60441c9e3ad4b9f03573399286ce1eccdf2cec7c77cb619ef3f38c630cd"
  },
  "kernelspec": {
   "display_name": "Python 3.10.4 64-bit",
   "language": "python",
   "name": "python3"
  },
  "language_info": {
   "codemirror_mode": {
    "name": "ipython",
    "version": 3
   },
   "file_extension": ".py",
   "mimetype": "text/x-python",
   "name": "python",
   "nbconvert_exporter": "python",
   "pygments_lexer": "ipython3",
   "version": "3.10.4"
  },
  "orig_nbformat": 4
 },
 "nbformat": 4,
 "nbformat_minor": 2
}
